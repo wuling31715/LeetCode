{
 "cells": [
  {
   "cell_type": "code",
   "execution_count": 1,
   "metadata": {},
   "outputs": [],
   "source": [
    "class Solution:\n",
    "    def lemonadeChange(self, bills: [int]) -> bool:\n",
    "        lis = list()\n",
    "        for i in bills:\n",
    "            if i == 5:\n",
    "                lis.append(5)\n",
    "            elif i == 10:\n",
    "                if 5 in lis:\n",
    "                    lis.remove(5)\n",
    "                    lis.append(10)\n",
    "                else:\n",
    "                    return False\n",
    "            elif i == 20:\n",
    "                if 5 in lis and 10 in lis:\n",
    "                    lis.remove(5)\n",
    "                    lis.remove(10)\n",
    "                    lis.append(20)\n",
    "                elif lis.count(5) >= 3:\n",
    "                    lis.remove(5)\n",
    "                    lis.remove(5)\n",
    "                    lis.remove(5)\n",
    "                    lis.append(20)                    \n",
    "                else:\n",
    "                    return False\n",
    "        return True"
   ]
  },
  {
   "cell_type": "code",
   "execution_count": 2,
   "metadata": {},
   "outputs": [],
   "source": [
    "s = Solution"
   ]
  },
  {
   "cell_type": "code",
   "execution_count": 3,
   "metadata": {},
   "outputs": [
    {
     "data": {
      "text/plain": [
       "True"
      ]
     },
     "execution_count": 3,
     "metadata": {},
     "output_type": "execute_result"
    }
   ],
   "source": [
    "s.lemonadeChange(s, [5,5,5,10,20])"
   ]
  },
  {
   "cell_type": "code",
   "execution_count": 4,
   "metadata": {},
   "outputs": [
    {
     "data": {
      "text/plain": [
       "False"
      ]
     },
     "execution_count": 4,
     "metadata": {},
     "output_type": "execute_result"
    }
   ],
   "source": [
    "s.lemonadeChange(s, [5,5,10,10,20])"
   ]
  },
  {
   "cell_type": "code",
   "execution_count": 5,
   "metadata": {},
   "outputs": [
    {
     "data": {
      "text/plain": [
       "True"
      ]
     },
     "execution_count": 5,
     "metadata": {},
     "output_type": "execute_result"
    }
   ],
   "source": [
    "s.lemonadeChange(s, [5,5,10,20,5,5,5,5,5,5,5,5,5,10,5,5,20,5,20,5])"
   ]
  },
  {
   "cell_type": "code",
   "execution_count": 6,
   "metadata": {},
   "outputs": [],
   "source": [
    "class Solution:\n",
    "    def lemonadeChange(self, bills: [int]) -> bool:\n",
    "        b5, b10, b20 = 0, 0, 0\n",
    "        for bill in bills:\n",
    "            if bill == 5:\n",
    "                b5 += 1\n",
    "            elif bill == 10:\n",
    "                b10 += 1\n",
    "                b5 -= 1\n",
    "            elif bill == 20:\n",
    "                if b10:\n",
    "                    b10 -= 1\n",
    "                    b5 -= 1\n",
    "                else:\n",
    "                    b5 -= 3\n",
    "            if b5 < 0:\n",
    "                return False\n",
    "        return True"
   ]
  },
  {
   "cell_type": "code",
   "execution_count": 7,
   "metadata": {},
   "outputs": [],
   "source": [
    "s = Solution"
   ]
  },
  {
   "cell_type": "code",
   "execution_count": 8,
   "metadata": {},
   "outputs": [
    {
     "data": {
      "text/plain": [
       "True"
      ]
     },
     "execution_count": 8,
     "metadata": {},
     "output_type": "execute_result"
    }
   ],
   "source": [
    "s.lemonadeChange(s, [5,5,5,10,20])"
   ]
  },
  {
   "cell_type": "code",
   "execution_count": 9,
   "metadata": {},
   "outputs": [
    {
     "data": {
      "text/plain": [
       "False"
      ]
     },
     "execution_count": 9,
     "metadata": {},
     "output_type": "execute_result"
    }
   ],
   "source": [
    "s.lemonadeChange(s, [5,5,10,10,20])"
   ]
  },
  {
   "cell_type": "code",
   "execution_count": 10,
   "metadata": {},
   "outputs": [
    {
     "data": {
      "text/plain": [
       "True"
      ]
     },
     "execution_count": 10,
     "metadata": {},
     "output_type": "execute_result"
    }
   ],
   "source": [
    "s.lemonadeChange(s, [5,5,10,20,5,5,5,5,5,5,5,5,5,10,5,5,20,5,20,5])"
   ]
  },
  {
   "cell_type": "code",
   "execution_count": null,
   "metadata": {},
   "outputs": [],
   "source": []
  }
 ],
 "metadata": {
  "kernelspec": {
   "display_name": "Python 3",
   "language": "python",
   "name": "python3"
  },
  "language_info": {
   "codemirror_mode": {
    "name": "ipython",
    "version": 3
   },
   "file_extension": ".py",
   "mimetype": "text/x-python",
   "name": "python",
   "nbconvert_exporter": "python",
   "pygments_lexer": "ipython3",
   "version": "3.6.9"
  }
 },
 "nbformat": 4,
 "nbformat_minor": 2
}
