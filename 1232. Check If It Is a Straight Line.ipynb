{
 "cells": [
  {
   "cell_type": "code",
   "execution_count": 1,
   "metadata": {},
   "outputs": [],
   "source": [
    "class Solution:\n",
    "    def checkStraightLine(self, coordinates: [[int]]) -> bool:\n",
    "        y_list = list()\n",
    "        for i in coordinates:\n",
    "            y_list.append(i[1])\n",
    "        if len(set(y_list)) == 1: # 斜率為0\n",
    "            return True\n",
    "        for i in range(len(coordinates) - 2):\n",
    "            x1 = coordinates[i+1][0] - coordinates[i][0]\n",
    "            y1 = coordinates[i+1][1] - coordinates[i][1]\n",
    "            x2 = coordinates[i+2][0] - coordinates[i+1][0]\n",
    "            y2 = coordinates[i+2][1] - coordinates[i+1][1]\n",
    "            try:\n",
    "                s1 = x1 / y1\n",
    "                s2 = x2 / y2\n",
    "            except:\n",
    "                return False\n",
    "            if s1 != s2:\n",
    "                return False\n",
    "        return True"
   ]
  },
  {
   "cell_type": "code",
   "execution_count": 2,
   "metadata": {},
   "outputs": [],
   "source": [
    "s = Solution"
   ]
  },
  {
   "cell_type": "code",
   "execution_count": 3,
   "metadata": {},
   "outputs": [
    {
     "data": {
      "text/plain": [
       "True"
      ]
     },
     "execution_count": 3,
     "metadata": {},
     "output_type": "execute_result"
    }
   ],
   "source": [
    "s.checkStraightLine(s, [[1,2],[2,3],[3,4],[4,5],[5,6],[6,7]])"
   ]
  },
  {
   "cell_type": "code",
   "execution_count": 4,
   "metadata": {},
   "outputs": [
    {
     "data": {
      "text/plain": [
       "False"
      ]
     },
     "execution_count": 4,
     "metadata": {},
     "output_type": "execute_result"
    }
   ],
   "source": [
    "s.checkStraightLine(s, [[1,1],[2,2],[3,4],[4,5],[5,6],[7,7]])"
   ]
  },
  {
   "cell_type": "code",
   "execution_count": 5,
   "metadata": {},
   "outputs": [
    {
     "data": {
      "text/plain": [
       "True"
      ]
     },
     "execution_count": 5,
     "metadata": {},
     "output_type": "execute_result"
    }
   ],
   "source": [
    "s.checkStraightLine(s, [[-3,-2],[-1,-2],[2,-2],[-2,-2],[0,-2]])"
   ]
  },
  {
   "cell_type": "code",
   "execution_count": 6,
   "metadata": {},
   "outputs": [
    {
     "data": {
      "text/plain": [
       "False"
      ]
     },
     "execution_count": 6,
     "metadata": {},
     "output_type": "execute_result"
    }
   ],
   "source": [
    "s.checkStraightLine(s, [[2,-3],[-8,-3],[-8,6],[-4,8],[1,5],[4,-7],[1,7],[8,4]])"
   ]
  },
  {
   "cell_type": "code",
   "execution_count": null,
   "metadata": {},
   "outputs": [],
   "source": []
  }
 ],
 "metadata": {
  "kernelspec": {
   "display_name": "Python 3",
   "language": "python",
   "name": "python3"
  },
  "language_info": {
   "codemirror_mode": {
    "name": "ipython",
    "version": 3
   },
   "file_extension": ".py",
   "mimetype": "text/x-python",
   "name": "python",
   "nbconvert_exporter": "python",
   "pygments_lexer": "ipython3",
   "version": "3.6.9"
  }
 },
 "nbformat": 4,
 "nbformat_minor": 2
}
