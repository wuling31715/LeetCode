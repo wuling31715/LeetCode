{
 "cells": [
  {
   "cell_type": "code",
   "execution_count": 1,
   "metadata": {},
   "outputs": [],
   "source": [
    "class Solution:\n",
    "    def hammingDistance(self, x: int, y: int) -> int:\n",
    "        def binary(x):\n",
    "            s = str()\n",
    "            while x != 0:\n",
    "                s += str(x % 2)\n",
    "                x //= 2\n",
    "            return s[::-1]\n",
    "        x = binary(x)\n",
    "        y = binary(y)\n",
    "        L = max(len(x), len(y))\n",
    "        x = x[::-1]\n",
    "        y = y[::-1]\n",
    "        while len(x) < L:\n",
    "            x += '0'\n",
    "        while len(y) < L:\n",
    "            y += '0'\n",
    "        x = x[::-1]\n",
    "        y = y[::-1]\n",
    "        count = 0\n",
    "        for i, j in zip(x, y):\n",
    "            if i != j:\n",
    "                count += 1\n",
    "        return count"
   ]
  },
  {
   "cell_type": "code",
   "execution_count": 2,
   "metadata": {},
   "outputs": [],
   "source": [
    "s = Solution()"
   ]
  },
  {
   "cell_type": "code",
   "execution_count": 3,
   "metadata": {},
   "outputs": [
    {
     "data": {
      "text/plain": [
       "2"
      ]
     },
     "execution_count": 3,
     "metadata": {},
     "output_type": "execute_result"
    }
   ],
   "source": [
    "s.hammingDistance(x = 1, y = 4)"
   ]
  },
  {
   "cell_type": "code",
   "execution_count": null,
   "metadata": {},
   "outputs": [],
   "source": []
  }
 ],
 "metadata": {
  "kernelspec": {
   "display_name": "Python 3",
   "language": "python",
   "name": "python3"
  },
  "language_info": {
   "codemirror_mode": {
    "name": "ipython",
    "version": 3
   },
   "file_extension": ".py",
   "mimetype": "text/x-python",
   "name": "python",
   "nbconvert_exporter": "python",
   "pygments_lexer": "ipython3",
   "version": "3.6.9"
  }
 },
 "nbformat": 4,
 "nbformat_minor": 2
}
