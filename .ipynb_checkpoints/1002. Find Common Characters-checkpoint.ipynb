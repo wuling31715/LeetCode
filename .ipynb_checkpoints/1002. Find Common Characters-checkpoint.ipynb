{
 "cells": [
  {
   "cell_type": "code",
   "execution_count": 1,
   "metadata": {},
   "outputs": [],
   "source": [
    "class Solution:\n",
    "    def commonChars(self, A: [str]) -> [str]:\n",
    "        lis = list()\n",
    "        base = A[0]\n",
    "        for i in base:\n",
    "            flag = True\n",
    "            for j, w in enumerate(A[1:]):                \n",
    "                if i not in w:\n",
    "                    flag = False\n",
    "                    break\n",
    "                if i in w:\n",
    "                    tmp = [i for i in w]\n",
    "                    A[j+1] = ''\n",
    "                    tmp.remove(i)\n",
    "                    for c in tmp:\n",
    "                        A[j+1] += c     \n",
    "            if flag == True:\n",
    "                lis.append(i)\n",
    "        return lis"
   ]
  },
  {
   "cell_type": "code",
   "execution_count": 2,
   "metadata": {},
   "outputs": [],
   "source": [
    "s = Solution"
   ]
  },
  {
   "cell_type": "code",
   "execution_count": 3,
   "metadata": {},
   "outputs": [
    {
     "data": {
      "text/plain": [
       "['e', 'l', 'l']"
      ]
     },
     "execution_count": 3,
     "metadata": {},
     "output_type": "execute_result"
    }
   ],
   "source": [
    "s.commonChars(s, [\"bella\",\"label\",\"roller\"])"
   ]
  },
  {
   "cell_type": "code",
   "execution_count": 4,
   "metadata": {},
   "outputs": [
    {
     "data": {
      "text/plain": [
       "['c', 'o']"
      ]
     },
     "execution_count": 4,
     "metadata": {},
     "output_type": "execute_result"
    }
   ],
   "source": [
    "s.commonChars(s, [\"cool\",\"lock\",\"cook\"])"
   ]
  },
  {
   "cell_type": "code",
   "execution_count": null,
   "metadata": {},
   "outputs": [],
   "source": []
  }
 ],
 "metadata": {
  "kernelspec": {
   "display_name": "Python 3",
   "language": "python",
   "name": "python3"
  },
  "language_info": {
   "codemirror_mode": {
    "name": "ipython",
    "version": 3
   },
   "file_extension": ".py",
   "mimetype": "text/x-python",
   "name": "python",
   "nbconvert_exporter": "python",
   "pygments_lexer": "ipython3",
   "version": "3.6.9"
  }
 },
 "nbformat": 4,
 "nbformat_minor": 2
}
