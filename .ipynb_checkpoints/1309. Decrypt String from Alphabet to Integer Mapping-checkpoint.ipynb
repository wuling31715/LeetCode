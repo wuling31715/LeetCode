{
 "cells": [
  {
   "cell_type": "code",
   "execution_count": 1,
   "metadata": {},
   "outputs": [],
   "source": [
    "class Solution:\n",
    "    def freqAlphabets(self, s: str) -> str:\n",
    "        a = 'abcdefghi'\n",
    "        lis = [i for i in a]\n",
    "        dic = {str(i+1): j for i, j in enumerate(lis)}\n",
    "        b = 'jklmnopqrstuvwxyz'\n",
    "        lis = [i for i in b]\n",
    "        dic2 = {str(i+10): j for i, j in enumerate(lis)}\n",
    "        lis = list()\n",
    "        i = 0        \n",
    "        while i < len(s):\n",
    "            if s[i] == '#':\n",
    "                tmp = s[i-2:i]\n",
    "                s = s[:i-2] + dic2[tmp] + s[i+1:]\n",
    "            i += 1\n",
    "        i = 0\n",
    "        while i < len(s):  \n",
    "            if s[i] in dic:\n",
    "                s = s[:i] + dic[s[i]] + s[i+1:]\n",
    "            i += 1                \n",
    "        return s"
   ]
  },
  {
   "cell_type": "code",
   "execution_count": 2,
   "metadata": {},
   "outputs": [],
   "source": [
    "s = Solution"
   ]
  },
  {
   "cell_type": "code",
   "execution_count": 3,
   "metadata": {},
   "outputs": [
    {
     "data": {
      "text/plain": [
       "'jkab'"
      ]
     },
     "execution_count": 3,
     "metadata": {},
     "output_type": "execute_result"
    }
   ],
   "source": [
    "s.freqAlphabets(s, \"10#11#12\")"
   ]
  },
  {
   "cell_type": "code",
   "execution_count": 4,
   "metadata": {},
   "outputs": [
    {
     "data": {
      "text/plain": [
       "'cdjkab'"
      ]
     },
     "execution_count": 4,
     "metadata": {},
     "output_type": "execute_result"
    }
   ],
   "source": [
    "s.freqAlphabets(s, \"3410#11#12\")"
   ]
  },
  {
   "cell_type": "code",
   "execution_count": 5,
   "metadata": {},
   "outputs": [
    {
     "data": {
      "text/plain": [
       "'acz'"
      ]
     },
     "execution_count": 5,
     "metadata": {},
     "output_type": "execute_result"
    }
   ],
   "source": [
    "s.freqAlphabets(s, s = \"1326#\")"
   ]
  },
  {
   "cell_type": "code",
   "execution_count": 6,
   "metadata": {},
   "outputs": [
    {
     "data": {
      "text/plain": [
       "'abcdefghijklmnopqrstuvwxyz'"
      ]
     },
     "execution_count": 6,
     "metadata": {},
     "output_type": "execute_result"
    }
   ],
   "source": [
    "s.freqAlphabets(s, s = \"12345678910#11#12#13#14#15#16#17#18#19#20#21#22#23#24#25#26#\")"
   ]
  },
  {
   "cell_type": "code",
   "execution_count": null,
   "metadata": {},
   "outputs": [],
   "source": []
  }
 ],
 "metadata": {
  "kernelspec": {
   "display_name": "Python 3",
   "language": "python",
   "name": "python3"
  },
  "language_info": {
   "codemirror_mode": {
    "name": "ipython",
    "version": 3
   },
   "file_extension": ".py",
   "mimetype": "text/x-python",
   "name": "python",
   "nbconvert_exporter": "python",
   "pygments_lexer": "ipython3",
   "version": "3.6.9"
  }
 },
 "nbformat": 4,
 "nbformat_minor": 2
}
