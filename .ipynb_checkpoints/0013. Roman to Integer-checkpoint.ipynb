{
 "cells": [
  {
   "cell_type": "code",
   "execution_count": 1,
   "metadata": {},
   "outputs": [],
   "source": [
    "class Solution:\n",
    "    def convert(self, s):\n",
    "        sum = 0\n",
    "        if s == 'I':\n",
    "            sum = 1\n",
    "        if s == 'V':\n",
    "            sum = 5\n",
    "        if s == 'X':\n",
    "            sum = 10\n",
    "        if s == 'L':\n",
    "            sum = 50\n",
    "        if s == 'C':\n",
    "            sum = 100\n",
    "        if s == 'D':\n",
    "            sum = 500\n",
    "        if s == 'M':\n",
    "            sum = 1000\n",
    "        return sum\n",
    "    def romanToInt(self, s: str) -> int:\n",
    "        if len(s) == 1:\n",
    "            return self.convert(self, s)\n",
    "        sum = 0\n",
    "        for i, v in enumerate(s[:-1]):\n",
    "            if self.convert(self, s[i]) < self.convert(self, s[i+1]):\n",
    "                sum -= self.convert(self, s[i])\n",
    "            else:\n",
    "                sum += self.convert(self, s[i])\n",
    "        sum += self.convert(self, s[i+1])\n",
    "        return sum"
   ]
  },
  {
   "cell_type": "code",
   "execution_count": 2,
   "metadata": {},
   "outputs": [],
   "source": [
    "s = Solution"
   ]
  },
  {
   "cell_type": "code",
   "execution_count": 3,
   "metadata": {},
   "outputs": [
    {
     "data": {
      "text/plain": [
       "3"
      ]
     },
     "execution_count": 3,
     "metadata": {},
     "output_type": "execute_result"
    }
   ],
   "source": [
    "s.romanToInt(s, 'III')"
   ]
  },
  {
   "cell_type": "code",
   "execution_count": 4,
   "metadata": {},
   "outputs": [
    {
     "data": {
      "text/plain": [
       "58"
      ]
     },
     "execution_count": 4,
     "metadata": {},
     "output_type": "execute_result"
    }
   ],
   "source": [
    "s.romanToInt(s, 'LVIII')"
   ]
  },
  {
   "cell_type": "code",
   "execution_count": 5,
   "metadata": {},
   "outputs": [
    {
     "data": {
      "text/plain": [
       "1994"
      ]
     },
     "execution_count": 5,
     "metadata": {},
     "output_type": "execute_result"
    }
   ],
   "source": [
    "s.romanToInt(s, 'MCMXCIV')"
   ]
  },
  {
   "cell_type": "code",
   "execution_count": 6,
   "metadata": {},
   "outputs": [
    {
     "data": {
      "text/plain": [
       "500"
      ]
     },
     "execution_count": 6,
     "metadata": {},
     "output_type": "execute_result"
    }
   ],
   "source": [
    "s.romanToInt(s, 'D')"
   ]
  },
  {
   "cell_type": "code",
   "execution_count": null,
   "metadata": {},
   "outputs": [],
   "source": []
  }
 ],
 "metadata": {
  "kernelspec": {
   "display_name": "Python 3",
   "language": "python",
   "name": "python3"
  },
  "language_info": {
   "codemirror_mode": {
    "name": "ipython",
    "version": 3
   },
   "file_extension": ".py",
   "mimetype": "text/x-python",
   "name": "python",
   "nbconvert_exporter": "python",
   "pygments_lexer": "ipython3",
   "version": "3.6.8"
  }
 },
 "nbformat": 4,
 "nbformat_minor": 2
}
