{
 "cells": [
  {
   "cell_type": "code",
   "execution_count": 1,
   "metadata": {},
   "outputs": [],
   "source": [
    "class Solution:\n",
    "    def diagonalSum(self, mat: [[int]]) -> int:\n",
    "        sum = 0\n",
    "        if len(mat) % 2 == 0:\n",
    "            i = 0\n",
    "            j = 0\n",
    "            while i < len(mat) and j < len(mat):\n",
    "                sum += mat[i][j]\n",
    "                i += 1\n",
    "                j += 1\n",
    "\n",
    "            i = 0\n",
    "            j = len(mat) - 1\n",
    "            while i < len(mat) and j >= 0:\n",
    "                sum += mat[i][j]\n",
    "                i += 1\n",
    "                j -= 1\n",
    "        else:\n",
    "            i = 0\n",
    "            j = 0\n",
    "            while i < len(mat) and j < len(mat):\n",
    "                sum += mat[i][j]\n",
    "                i += 1\n",
    "                j += 1                \n",
    "            i = 0\n",
    "            j = len(mat) - 1\n",
    "            while i < len(mat) and j >= 0:\n",
    "                sum += mat[i][j]\n",
    "                i += 1\n",
    "                j -= 1            \n",
    "            i = len(mat) // 2\n",
    "            j = len(mat) // 2\n",
    "            sum -= mat[i][j]            \n",
    "        return sum"
   ]
  },
  {
   "cell_type": "code",
   "execution_count": 2,
   "metadata": {},
   "outputs": [],
   "source": [
    "s = Solution()"
   ]
  },
  {
   "cell_type": "code",
   "execution_count": 3,
   "metadata": {},
   "outputs": [
    {
     "data": {
      "text/plain": [
       "25"
      ]
     },
     "execution_count": 3,
     "metadata": {},
     "output_type": "execute_result"
    }
   ],
   "source": [
    "s.diagonalSum(mat = [[1,2,3], [4,5,6],[7,8,9]])"
   ]
  },
  {
   "cell_type": "code",
   "execution_count": null,
   "metadata": {},
   "outputs": [],
   "source": []
  }
 ],
 "metadata": {
  "kernelspec": {
   "display_name": "Python 3",
   "language": "python",
   "name": "python3"
  },
  "language_info": {
   "codemirror_mode": {
    "name": "ipython",
    "version": 3
   },
   "file_extension": ".py",
   "mimetype": "text/x-python",
   "name": "python",
   "nbconvert_exporter": "python",
   "pygments_lexer": "ipython3",
   "version": "3.6.9"
  }
 },
 "nbformat": 4,
 "nbformat_minor": 4
}
