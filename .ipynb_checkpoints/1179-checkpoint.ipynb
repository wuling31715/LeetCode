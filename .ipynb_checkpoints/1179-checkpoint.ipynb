{
 "cells": [
  {
   "cell_type": "code",
   "execution_count": 1,
   "metadata": {},
   "outputs": [],
   "source": [
    "# SELECT id,\n",
    "# MIN(CASE WHEN month = 'Jan' THEN revenue END) AS Jan_Revenue,\n",
    "# MIN(CASE WHEN month = 'Feb' THEN revenue END) AS Feb_Revenue,\n",
    "# MIN(CASE WHEN month = 'Mar' THEN revenue END) AS Mar_Revenue,\n",
    "# MIN(CASE WHEN month = 'Apr' THEN revenue END) AS Apr_Revenue,\n",
    "# MIN(CASE WHEN month = 'May' THEN revenue END) AS May_Revenue,\n",
    "# MIN(CASE WHEN month = 'Jun' THEN revenue END) AS Jun_Revenue,\n",
    "# MIN(CASE WHEN month = 'Jul' THEN revenue END) AS Jul_Revenue,\n",
    "# MIN(CASE WHEN month = 'Aug' THEN revenue END) AS Aug_Revenue,\n",
    "# MIN(CASE WHEN month = 'Sep' THEN revenue END) AS Sep_Revenue,\n",
    "# MIN(CASE WHEN month = 'Oct' THEN revenue END) AS Oct_Revenue,\n",
    "# MIN(CASE WHEN month = 'Nov' THEN revenue END) AS Nov_Revenue,\n",
    "# MIN(CASE WHEN month = 'Dec' THEN revenue END) AS Dec_Revenue\n",
    "# FROM Department\n",
    "# GROUP BY Id"
   ]
  },
  {
   "cell_type": "code",
   "execution_count": null,
   "metadata": {},
   "outputs": [],
   "source": []
  }
 ],
 "metadata": {
  "kernelspec": {
   "display_name": "Python 3",
   "language": "python",
   "name": "python3"
  },
  "language_info": {
   "codemirror_mode": {
    "name": "ipython",
    "version": 3
   },
   "file_extension": ".py",
   "mimetype": "text/x-python",
   "name": "python",
   "nbconvert_exporter": "python",
   "pygments_lexer": "ipython3",
   "version": "3.6.9"
  }
 },
 "nbformat": 4,
 "nbformat_minor": 2
}
