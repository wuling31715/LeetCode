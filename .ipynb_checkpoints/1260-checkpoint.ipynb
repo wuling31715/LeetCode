{
 "cells": [
  {
   "cell_type": "code",
   "execution_count": 1,
   "metadata": {},
   "outputs": [],
   "source": [
    "class Solution:\n",
    "    def shiftGrid(self, grid: [[int]], k: int) -> [[int]]:\n",
    "        m = len(grid)\n",
    "        n = len(grid[0])\n",
    "        listt = list()\n",
    "        for i in grid:\n",
    "            for j in i:\n",
    "                listt.append(j)\n",
    "        for i in range(k):\n",
    "            listt.insert(0, listt.pop(-1))\n",
    "        grid = [[0] * n for i in range(m)]\n",
    "        k = 0\n",
    "        for i in range(m):\n",
    "            for j in range(n):\n",
    "                grid[i][j] = listt[k]\n",
    "                k += 1            \n",
    "        return grid"
   ]
  },
  {
   "cell_type": "code",
   "execution_count": 2,
   "metadata": {},
   "outputs": [],
   "source": [
    "s = Solution()"
   ]
  },
  {
   "cell_type": "code",
   "execution_count": 3,
   "metadata": {},
   "outputs": [
    {
     "data": {
      "text/plain": [
       "[[6], [5], [1], [2], [3], [4], [7]]"
      ]
     },
     "execution_count": 3,
     "metadata": {},
     "output_type": "execute_result"
    }
   ],
   "source": [
    "s.shiftGrid([[1],[2],[3],[4],[7],[6],[5]], 23)"
   ]
  },
  {
   "cell_type": "code",
   "execution_count": 4,
   "metadata": {},
   "outputs": [
    {
     "data": {
      "text/plain": [
       "[[9, 1, 2], [3, 4, 5], [6, 7, 8]]"
      ]
     },
     "execution_count": 4,
     "metadata": {},
     "output_type": "execute_result"
    }
   ],
   "source": [
    "s.shiftGrid(grid = [[1,2,3],[4,5,6],[7,8,9]], k = 1)"
   ]
  },
  {
   "cell_type": "code",
   "execution_count": null,
   "metadata": {},
   "outputs": [],
   "source": []
  }
 ],
 "metadata": {
  "kernelspec": {
   "display_name": "Python 3",
   "language": "python",
   "name": "python3"
  },
  "language_info": {
   "codemirror_mode": {
    "name": "ipython",
    "version": 3
   },
   "file_extension": ".py",
   "mimetype": "text/x-python",
   "name": "python",
   "nbconvert_exporter": "python",
   "pygments_lexer": "ipython3",
   "version": "3.6.9"
  }
 },
 "nbformat": 4,
 "nbformat_minor": 2
}
