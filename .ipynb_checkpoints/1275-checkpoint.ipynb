{
 "cells": [
  {
   "cell_type": "code",
   "execution_count": 1,
   "metadata": {},
   "outputs": [],
   "source": [
    "class Solution:\n",
    "    def tictactoe(self, moves: [[int]]) -> str:\n",
    "        matrix = [[0 for i in range(3)] for i in range(3)]\n",
    "        flag = 1\n",
    "        for i in moves:\n",
    "            row = i[0]\n",
    "            column = i[1]\n",
    "            if flag % 2 == 1:\n",
    "                matrix[row][column] = 1\n",
    "            else:\n",
    "                matrix[row][column] = 2\n",
    "            flag += 1\n",
    "        for i in matrix:\n",
    "            print(i)\n",
    "        i = 0\n",
    "        j = 0\n",
    "        while i <= 2:\n",
    "            if matrix[i][j] == matrix[i][j+1] == matrix[i][j+2] == 1:\n",
    "                return 'A'\n",
    "            if matrix[i][j] == matrix[i][j+1] == matrix[i][j+2] == 2:\n",
    "                return 'B'\n",
    "            i += 1\n",
    "        i = 0\n",
    "        j = 0\n",
    "        while j <= 2:\n",
    "            if matrix[i][j] == matrix[i+1][j] == matrix[i+2][j] == 1:\n",
    "                return 'A'\n",
    "            if matrix[i][j] == matrix[i+1][j] == matrix[i+2][j] == 2:\n",
    "                return 'B'\n",
    "            j += 1\n",
    "        i = 0\n",
    "        if matrix[i][i] == matrix[i+1][i+1] == matrix[i+2][i+2] == 1:\n",
    "            return 'A'\n",
    "        if matrix[i][i] == matrix[i+1][i+1] == matrix[i+2][i+2] == 2:\n",
    "            return 'B'\n",
    "        if matrix[0][2] == matrix[1][1] == matrix[2][0] == 1:\n",
    "            return 'A'\n",
    "        if matrix[0][2] == matrix[1][1] == matrix[2][0] == 2:\n",
    "            return 'B'        \n",
    "        if len(moves) == 9:            \n",
    "            return \"Draw\"\n",
    "        return \"Pending\""
   ]
  },
  {
   "cell_type": "code",
   "execution_count": 2,
   "metadata": {},
   "outputs": [],
   "source": [
    "s = Solution()"
   ]
  },
  {
   "cell_type": "code",
   "execution_count": 3,
   "metadata": {},
   "outputs": [
    {
     "name": "stdout",
     "output_type": "stream",
     "text": [
      "[1, 0, 0]\n",
      "[0, 1, 0]\n",
      "[2, 2, 1]\n"
     ]
    },
    {
     "data": {
      "text/plain": [
       "'A'"
      ]
     },
     "execution_count": 3,
     "metadata": {},
     "output_type": "execute_result"
    }
   ],
   "source": [
    "s.tictactoe(moves = [[0,0],[2,0],[1,1],[2,1],[2,2]])"
   ]
  },
  {
   "cell_type": "code",
   "execution_count": 4,
   "metadata": {},
   "outputs": [
    {
     "name": "stdout",
     "output_type": "stream",
     "text": [
      "[1, 1, 2]\n",
      "[1, 2, 0]\n",
      "[2, 0, 0]\n"
     ]
    },
    {
     "data": {
      "text/plain": [
       "'B'"
      ]
     },
     "execution_count": 4,
     "metadata": {},
     "output_type": "execute_result"
    }
   ],
   "source": [
    "s.tictactoe(moves = [[0,0],[1,1],[0,1],[0,2],[1,0],[2,0]])"
   ]
  },
  {
   "cell_type": "code",
   "execution_count": 5,
   "metadata": {},
   "outputs": [
    {
     "name": "stdout",
     "output_type": "stream",
     "text": [
      "[1, 1, 2]\n",
      "[2, 2, 1]\n",
      "[1, 2, 1]\n"
     ]
    },
    {
     "data": {
      "text/plain": [
       "'Draw'"
      ]
     },
     "execution_count": 5,
     "metadata": {},
     "output_type": "execute_result"
    }
   ],
   "source": [
    "s.tictactoe(moves = [[0,0],[1,1],[2,0],[1,0],[1,2],[2,1],[0,1],[0,2],[2,2]])"
   ]
  },
  {
   "cell_type": "code",
   "execution_count": 6,
   "metadata": {},
   "outputs": [
    {
     "name": "stdout",
     "output_type": "stream",
     "text": [
      "[1, 0, 0]\n",
      "[0, 2, 0]\n",
      "[0, 0, 0]\n"
     ]
    },
    {
     "data": {
      "text/plain": [
       "'Pending'"
      ]
     },
     "execution_count": 6,
     "metadata": {},
     "output_type": "execute_result"
    }
   ],
   "source": [
    "s.tictactoe(moves = [[0,0],[1,1]])"
   ]
  },
  {
   "cell_type": "code",
   "execution_count": 7,
   "metadata": {},
   "outputs": [
    {
     "name": "stdout",
     "output_type": "stream",
     "text": [
      "[0, 2, 0]\n",
      "[1, 1, 0]\n",
      "[1, 0, 2]\n"
     ]
    },
    {
     "data": {
      "text/plain": [
       "'Pending'"
      ]
     },
     "execution_count": 7,
     "metadata": {},
     "output_type": "execute_result"
    }
   ],
   "source": [
    "s.tictactoe(moves = [[1,0],[2,2],[2,0],[0,1],[1,1]])"
   ]
  },
  {
   "cell_type": "code",
   "execution_count": 8,
   "metadata": {},
   "outputs": [
    {
     "name": "stdout",
     "output_type": "stream",
     "text": [
      "[1, 1, 2]\n",
      "[1, 1, 2]\n",
      "[2, 0, 2]\n"
     ]
    },
    {
     "data": {
      "text/plain": [
       "'B'"
      ]
     },
     "execution_count": 8,
     "metadata": {},
     "output_type": "execute_result"
    }
   ],
   "source": [
    "s.tictactoe(moves = [[0,0],[2,2],[1,0],[2,0],[0,1],[1,2],[1,1],[0,2]])"
   ]
  },
  {
   "cell_type": "code",
   "execution_count": null,
   "metadata": {},
   "outputs": [],
   "source": []
  }
 ],
 "metadata": {
  "kernelspec": {
   "display_name": "Python 3",
   "language": "python",
   "name": "python3"
  },
  "language_info": {
   "codemirror_mode": {
    "name": "ipython",
    "version": 3
   },
   "file_extension": ".py",
   "mimetype": "text/x-python",
   "name": "python",
   "nbconvert_exporter": "python",
   "pygments_lexer": "ipython3",
   "version": "3.6.9"
  }
 },
 "nbformat": 4,
 "nbformat_minor": 2
}
