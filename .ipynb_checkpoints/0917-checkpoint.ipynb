{
 "cells": [
  {
   "cell_type": "code",
   "execution_count": 1,
   "metadata": {},
   "outputs": [],
   "source": [
    "class Solution:\n",
    "    def reverseOnlyLetters(self, S: str) -> str:\n",
    "        N = len(S)\n",
    "        alpha = list()\n",
    "        not_alpha = list()\n",
    "        for i in range(len(S)):\n",
    "            if S[i].isalpha():\n",
    "                alpha.append(S[i])\n",
    "            else:\n",
    "                not_alpha.append([i, S[i]])\n",
    "        alpha = alpha[::-1]\n",
    "        listt = [True for i in range(N)]\n",
    "        for i in not_alpha:\n",
    "            listt[i[0]] = i[1]\n",
    "        for i in range(len(listt)):\n",
    "            if listt[i] == True:\n",
    "                listt[i] = alpha.pop(0)                                                    \n",
    "        output = str()\n",
    "        for i in listt:\n",
    "            output += i\n",
    "        return output"
   ]
  },
  {
   "cell_type": "code",
   "execution_count": 2,
   "metadata": {},
   "outputs": [],
   "source": [
    "s = Solution()"
   ]
  },
  {
   "cell_type": "code",
   "execution_count": 3,
   "metadata": {},
   "outputs": [
    {
     "data": {
      "text/plain": [
       "'dc-ba'"
      ]
     },
     "execution_count": 3,
     "metadata": {},
     "output_type": "execute_result"
    }
   ],
   "source": [
    "s.reverseOnlyLetters(\"ab-cd\")"
   ]
  },
  {
   "cell_type": "code",
   "execution_count": 4,
   "metadata": {},
   "outputs": [
    {
     "data": {
      "text/plain": [
       "'j-Ih-gfE-dCba'"
      ]
     },
     "execution_count": 4,
     "metadata": {},
     "output_type": "execute_result"
    }
   ],
   "source": [
    "s.reverseOnlyLetters(\"a-bC-dEf-ghIj\")"
   ]
  },
  {
   "cell_type": "code",
   "execution_count": 5,
   "metadata": {},
   "outputs": [
    {
     "data": {
      "text/plain": [
       "'Qedo1ct-eeLg=ntse-T!'"
      ]
     },
     "execution_count": 5,
     "metadata": {},
     "output_type": "execute_result"
    }
   ],
   "source": [
    "s.reverseOnlyLetters(\"Test1ng-Leet=code-Q!\")"
   ]
  },
  {
   "cell_type": "code",
   "execution_count": null,
   "metadata": {},
   "outputs": [],
   "source": []
  }
 ],
 "metadata": {
  "kernelspec": {
   "display_name": "Python 3",
   "language": "python",
   "name": "python3"
  },
  "language_info": {
   "codemirror_mode": {
    "name": "ipython",
    "version": 3
   },
   "file_extension": ".py",
   "mimetype": "text/x-python",
   "name": "python",
   "nbconvert_exporter": "python",
   "pygments_lexer": "ipython3",
   "version": "3.6.9"
  }
 },
 "nbformat": 4,
 "nbformat_minor": 2
}
