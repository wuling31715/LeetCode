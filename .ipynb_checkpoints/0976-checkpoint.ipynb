{
 "cells": [
  {
   "cell_type": "code",
   "execution_count": 1,
   "metadata": {},
   "outputs": [],
   "source": [
    "class Solution:\n",
    "    def largestPerimeter(self, A: [int]) -> int:\n",
    "        \n",
    "        def triangle(x, y, z):\n",
    "            if y + z > x:\n",
    "                return True\n",
    "            else:\n",
    "                return False\n",
    "            \n",
    "        MAX1 = max(A)\n",
    "        A.remove(MAX1)\n",
    "        MAX2 = max(A)\n",
    "        A.remove(MAX2)\n",
    "        MAX3 = max(A)\n",
    "        A.remove(MAX3)\n",
    "        if triangle(MAX1, MAX2, MAX3):\n",
    "            return MAX1 + MAX2 + MAX3\n",
    "\n",
    "        while len(A) != 0:\n",
    "            MAX1 = MAX2\n",
    "            MAX2 = MAX3\n",
    "            MAX3 = max(A)\n",
    "            A.remove(MAX3)\n",
    "            if triangle(MAX1, MAX2, MAX3):\n",
    "                return MAX1 + MAX2 + MAX3\n",
    "            \n",
    "        return 0 "
   ]
  },
  {
   "cell_type": "code",
   "execution_count": 2,
   "metadata": {},
   "outputs": [],
   "source": [
    "s = Solution()"
   ]
  },
  {
   "cell_type": "code",
   "execution_count": 3,
   "metadata": {},
   "outputs": [
    {
     "data": {
      "text/plain": [
       "5"
      ]
     },
     "execution_count": 3,
     "metadata": {},
     "output_type": "execute_result"
    }
   ],
   "source": [
    "s.largestPerimeter([1,2,2,4,18,8])"
   ]
  },
  {
   "cell_type": "code",
   "execution_count": 4,
   "metadata": {},
   "outputs": [
    {
     "data": {
      "text/plain": [
       "5"
      ]
     },
     "execution_count": 4,
     "metadata": {},
     "output_type": "execute_result"
    }
   ],
   "source": [
    "s.largestPerimeter([2,1,2])"
   ]
  },
  {
   "cell_type": "code",
   "execution_count": 5,
   "metadata": {},
   "outputs": [
    {
     "data": {
      "text/plain": [
       "0"
      ]
     },
     "execution_count": 5,
     "metadata": {},
     "output_type": "execute_result"
    }
   ],
   "source": [
    "s.largestPerimeter([1,2,1])"
   ]
  },
  {
   "cell_type": "code",
   "execution_count": 6,
   "metadata": {},
   "outputs": [
    {
     "data": {
      "text/plain": [
       "10"
      ]
     },
     "execution_count": 6,
     "metadata": {},
     "output_type": "execute_result"
    }
   ],
   "source": [
    "s.largestPerimeter([3,2,3,4])"
   ]
  },
  {
   "cell_type": "code",
   "execution_count": 7,
   "metadata": {},
   "outputs": [
    {
     "data": {
      "text/plain": [
       "8"
      ]
     },
     "execution_count": 7,
     "metadata": {},
     "output_type": "execute_result"
    }
   ],
   "source": [
    "s.largestPerimeter([3,6,2,3])"
   ]
  },
  {
   "cell_type": "code",
   "execution_count": null,
   "metadata": {},
   "outputs": [],
   "source": []
  }
 ],
 "metadata": {
  "kernelspec": {
   "display_name": "Python 3",
   "language": "python",
   "name": "python3"
  },
  "language_info": {
   "codemirror_mode": {
    "name": "ipython",
    "version": 3
   },
   "file_extension": ".py",
   "mimetype": "text/x-python",
   "name": "python",
   "nbconvert_exporter": "python",
   "pygments_lexer": "ipython3",
   "version": "3.6.9"
  }
 },
 "nbformat": 4,
 "nbformat_minor": 2
}
