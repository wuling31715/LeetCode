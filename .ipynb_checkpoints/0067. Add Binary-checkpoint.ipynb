{
 "cells": [
  {
   "cell_type": "code",
   "execution_count": 1,
   "metadata": {},
   "outputs": [],
   "source": [
    "class Solution:\n",
    "    def dec_to_bin(i):\n",
    "        s = ''\n",
    "        while i // 2 > 0:\n",
    "            r = i % 2\n",
    "            i = i // 2\n",
    "            s += str(r)\n",
    "        s += str(i % 2)\n",
    "        return s[::-1]\n",
    "    def bin_to_dec(s):\n",
    "        sum = 0\n",
    "        for i, v in enumerate(s[::-1]):\n",
    "            sum += int(v) * (2 ** i)\n",
    "        return sum\n",
    "    def addBinary(self, a: str, b: str) -> str:\n",
    "            a = self.bin_to_dec(a)\n",
    "            b = self.bin_to_dec(b)\n",
    "            return self.dec_to_bin(a + b)"
   ]
  },
  {
   "cell_type": "code",
   "execution_count": 2,
   "metadata": {},
   "outputs": [],
   "source": [
    "s = Solution"
   ]
  },
  {
   "cell_type": "code",
   "execution_count": 3,
   "metadata": {},
   "outputs": [
    {
     "data": {
      "text/plain": [
       "'100'"
      ]
     },
     "execution_count": 3,
     "metadata": {},
     "output_type": "execute_result"
    }
   ],
   "source": [
    "s.addBinary(s, a = \"11\", b = \"1\")"
   ]
  },
  {
   "cell_type": "code",
   "execution_count": null,
   "metadata": {},
   "outputs": [],
   "source": []
  }
 ],
 "metadata": {
  "kernelspec": {
   "display_name": "Python 3",
   "language": "python",
   "name": "python3"
  },
  "language_info": {
   "codemirror_mode": {
    "name": "ipython",
    "version": 3
   },
   "file_extension": ".py",
   "mimetype": "text/x-python",
   "name": "python",
   "nbconvert_exporter": "python",
   "pygments_lexer": "ipython3",
   "version": "3.6.8"
  }
 },
 "nbformat": 4,
 "nbformat_minor": 2
}
