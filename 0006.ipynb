{
 "cells": [
  {
   "cell_type": "code",
   "execution_count": 1,
   "metadata": {},
   "outputs": [],
   "source": [
    "class Solution:\n",
    "    def convert(self, s: str, numRows: int) -> str:\n",
    "        if numRows == 1:\n",
    "            return s\n",
    "        matrix = [[None for i in range(len(s) // 2 + 1)] for i in range(numRows)]\n",
    "        down = True\n",
    "        left = False\n",
    "        i = 0\n",
    "        j = 0\n",
    "        k = 0\n",
    "        while k < len(s):\n",
    "            matrix[i][j] = s[k]\n",
    "            k += 1\n",
    "            if i == len(matrix) - 1:\n",
    "                down = False\n",
    "                left = True                \n",
    "            if i == 0:\n",
    "                down = True\n",
    "                left = False                        \n",
    "            if down:\n",
    "                i += 1\n",
    "            else:\n",
    "                i -= 1\n",
    "            if left:\n",
    "                j += 1\n",
    "        output = str()\n",
    "        for row in matrix:\n",
    "            for s in row:\n",
    "                if s:\n",
    "                    output += s\n",
    "#         return output\n",
    "        return matrix "
   ]
  },
  {
   "cell_type": "code",
   "execution_count": 2,
   "metadata": {},
   "outputs": [],
   "source": [
    "s = Solution()"
   ]
  },
  {
   "cell_type": "code",
   "execution_count": 3,
   "metadata": {},
   "outputs": [
    {
     "data": {
      "text/plain": [
       "'AB'"
      ]
     },
     "execution_count": 3,
     "metadata": {},
     "output_type": "execute_result"
    }
   ],
   "source": [
    "s.convert(s = \"AB\", numRows = 1)"
   ]
  },
  {
   "cell_type": "code",
   "execution_count": 4,
   "metadata": {},
   "outputs": [
    {
     "data": {
      "text/plain": [
       "'A'"
      ]
     },
     "execution_count": 4,
     "metadata": {},
     "output_type": "execute_result"
    }
   ],
   "source": [
    "s.convert(s = \"A\", numRows = 1)"
   ]
  },
  {
   "cell_type": "code",
   "execution_count": 5,
   "metadata": {},
   "outputs": [
    {
     "data": {
      "text/plain": [
       "[['P', None, None, 'I', None, None, 'N', None],\n",
       " ['A', None, 'L', 'S', None, 'I', 'G', None],\n",
       " ['Y', 'A', None, 'H', 'R', None, None, None],\n",
       " ['P', None, None, 'I', None, None, None, None]]"
      ]
     },
     "execution_count": 5,
     "metadata": {},
     "output_type": "execute_result"
    }
   ],
   "source": [
    "s.convert(s = \"PAYPALISHIRING\", numRows = 4)"
   ]
  },
  {
   "cell_type": "code",
   "execution_count": 6,
   "metadata": {},
   "outputs": [
    {
     "data": {
      "text/plain": [
       "[['P', None, 'A', None, 'H', None, 'N', None],\n",
       " ['A', 'P', 'L', 'S', 'I', 'I', 'G', None],\n",
       " ['Y', None, 'I', None, 'R', None, None, None]]"
      ]
     },
     "execution_count": 6,
     "metadata": {},
     "output_type": "execute_result"
    }
   ],
   "source": [
    "s.convert(s = \"PAYPALISHIRING\", numRows = 3)"
   ]
  }
 ],
 "metadata": {
  "kernelspec": {
   "display_name": "Python 3",
   "language": "python",
   "name": "python3"
  },
  "language_info": {
   "codemirror_mode": {
    "name": "ipython",
    "version": 3
   },
   "file_extension": ".py",
   "mimetype": "text/x-python",
   "name": "python",
   "nbconvert_exporter": "python",
   "pygments_lexer": "ipython3",
   "version": "3.6.9"
  }
 },
 "nbformat": 4,
 "nbformat_minor": 4
}
