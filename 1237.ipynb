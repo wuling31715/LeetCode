{
 "cells": [
  {
   "cell_type": "code",
   "execution_count": 1,
   "metadata": {},
   "outputs": [],
   "source": [
    "class Solution:\n",
    "    def findSolution(self, customfunction: 'CustomFunction', z: int) -> [[int]]:\n",
    "        solution = list()                        \n",
    "        x = 1 # x from 1 to z\n",
    "        y = z # y from z to 1\n",
    "        while x <= z and y >= 1:         \n",
    "            returnn = customfunction.f(x, y)\n",
    "            if returnn > z: # f(x, y) is too big, make y smaller\n",
    "                y -= 1                \n",
    "            elif returnn < z: # f(x, y) is too small, make x bigger\n",
    "                x += 1            \n",
    "            else:\n",
    "                solution.append((x,y)) # f(x, y) = z                \n",
    "                x += 1 # make x bigger for next iteration\n",
    "        return solution"
   ]
  },
  {
   "cell_type": "code",
   "execution_count": null,
   "metadata": {},
   "outputs": [],
   "source": []
  }
 ],
 "metadata": {
  "kernelspec": {
   "display_name": "Python 3",
   "language": "python",
   "name": "python3"
  },
  "language_info": {
   "codemirror_mode": {
    "name": "ipython",
    "version": 3
   },
   "file_extension": ".py",
   "mimetype": "text/x-python",
   "name": "python",
   "nbconvert_exporter": "python",
   "pygments_lexer": "ipython3",
   "version": "3.7.4"
  }
 },
 "nbformat": 4,
 "nbformat_minor": 2
}
