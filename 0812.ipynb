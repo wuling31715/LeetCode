{
 "cells": [
  {
   "cell_type": "code",
   "execution_count": 1,
   "metadata": {},
   "outputs": [],
   "source": [
    "import itertools\n",
    "\n",
    "class Solution:\n",
    "    def largestTriangleArea(self, points: [[int]]) -> float:\n",
    "        \n",
    "        def area(a, b, c, d):\n",
    "            return 0.5 * abs(a*d - b*c)\n",
    "        \n",
    "        MAX = 0\n",
    "        \n",
    "        for i in itertools.combinations(points,3):\n",
    "            a = i[1][0] - i[0][0]\n",
    "            b = i[1][1] - i[0][1]\n",
    "            c = i[2][0] - i[0][0]\n",
    "            d = i[2][1] - i[0][1]\n",
    "            if area(a, b, c, d) > MAX:\n",
    "                MAX = area(a, b, c, d)\n",
    "                \n",
    "        return MAX"
   ]
  },
  {
   "cell_type": "code",
   "execution_count": 2,
   "metadata": {},
   "outputs": [],
   "source": [
    "s = Solution()"
   ]
  },
  {
   "cell_type": "code",
   "execution_count": 3,
   "metadata": {},
   "outputs": [
    {
     "data": {
      "text/plain": [
       "2.0"
      ]
     },
     "execution_count": 3,
     "metadata": {},
     "output_type": "execute_result"
    }
   ],
   "source": [
    "s.largestTriangleArea(points = [[0,0],[0,1],[1,0],[0,2],[2,0]])"
   ]
  },
  {
   "cell_type": "code",
   "execution_count": null,
   "metadata": {},
   "outputs": [],
   "source": []
  }
 ],
 "metadata": {
  "kernelspec": {
   "display_name": "Python 3",
   "language": "python",
   "name": "python3"
  },
  "language_info": {
   "codemirror_mode": {
    "name": "ipython",
    "version": 3
   },
   "file_extension": ".py",
   "mimetype": "text/x-python",
   "name": "python",
   "nbconvert_exporter": "python",
   "pygments_lexer": "ipython3",
   "version": "3.6.9"
  }
 },
 "nbformat": 4,
 "nbformat_minor": 2
}
