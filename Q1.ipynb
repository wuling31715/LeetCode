{
 "cells": [
  {
   "cell_type": "code",
   "execution_count": 1,
   "metadata": {},
   "outputs": [],
   "source": [
    "def main(input1, input2, input3, input4, input5):\n",
    "    ans = list()\n",
    "    dis = [0]\n",
    "    i = 0\n",
    "    while i < len(input2[:-1]):\n",
    "        if input2[i+1] - input2[i] <= input3:\n",
    "            dis.append(1)\n",
    "        else:\n",
    "            dis.append(0)\n",
    "        i += 1\n",
    "    for row in input5:\n",
    "        if row[1] > row[0]:\n",
    "            start = row[0] - 1\n",
    "            end = row[1] - 1\n",
    "        else:\n",
    "            start = row[1] - 1\n",
    "            end = row[0] - 1\n",
    "        j = start + 1\n",
    "        flag = True\n",
    "        tmp = dis[start+1:end+1]\n",
    "        if 0 in tmp:\n",
    "            ans.append(0)                            \n",
    "        else:\n",
    "            ans.append(1)\n",
    "    return ans"
   ]
  },
  {
   "cell_type": "code",
   "execution_count": 2,
   "metadata": {},
   "outputs": [
    {
     "data": {
      "text/plain": [
       "[1, 1]"
      ]
     },
     "execution_count": 2,
     "metadata": {},
     "output_type": "execute_result"
    }
   ],
   "source": [
    "main(3, [4, 6, 8], 2, 2, [[1,2],[1,3]])"
   ]
  },
  {
   "cell_type": "code",
   "execution_count": 3,
   "metadata": {},
   "outputs": [
    {
     "data": {
      "text/plain": [
       "[1, 0]"
      ]
     },
     "execution_count": 3,
     "metadata": {},
     "output_type": "execute_result"
    }
   ],
   "source": [
    "main(3, [4, 7, 14], 3, 2, [[1,2],[1,3]])"
   ]
  },
  {
   "cell_type": "code",
   "execution_count": 4,
   "metadata": {},
   "outputs": [
    {
     "data": {
      "text/plain": [
       "[0, 1]"
      ]
     },
     "execution_count": 4,
     "metadata": {},
     "output_type": "execute_result"
    }
   ],
   "source": [
    "main(3, [4, 7, 14], 3, 2, [[3,1],[2,1]])"
   ]
  },
  {
   "cell_type": "code",
   "execution_count": 5,
   "metadata": {},
   "outputs": [
    {
     "data": {
      "text/plain": [
       "[0, 1, 0]"
      ]
     },
     "execution_count": 5,
     "metadata": {},
     "output_type": "execute_result"
    }
   ],
   "source": [
    "main(3, [0, 5, 2], 3, 3, [[2,1],[2,3],[1,3]])"
   ]
  },
  {
   "cell_type": "code",
   "execution_count": null,
   "metadata": {},
   "outputs": [],
   "source": []
  }
 ],
 "metadata": {
  "kernelspec": {
   "display_name": "Python 3",
   "language": "python",
   "name": "python3"
  },
  "language_info": {
   "codemirror_mode": {
    "name": "ipython",
    "version": 3
   },
   "file_extension": ".py",
   "mimetype": "text/x-python",
   "name": "python",
   "nbconvert_exporter": "python",
   "pygments_lexer": "ipython3",
   "version": "3.6.9"
  }
 },
 "nbformat": 4,
 "nbformat_minor": 2
}
