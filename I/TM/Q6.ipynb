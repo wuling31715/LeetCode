{
 "cells": [
  {
   "cell_type": "code",
   "execution_count": 1,
   "metadata": {},
   "outputs": [],
   "source": [
    "def getSpecialSubstring(s, k, charValue):\n",
    "    alphbet = \"abcdefghijklmnopqrstuvwxyz\"\n",
    "    normal = list()\n",
    "    for i, j in zip(charValue, alphbet):\n",
    "        if int(i) == 0:\n",
    "            normal.append(j)\n",
    "    listt = list()\n",
    "    for i in range(len(s)):\n",
    "        f = 0\n",
    "        j = i\n",
    "        while f <= k and j <= len(s) - 1:\n",
    "            tmp = s[i:j+1]\n",
    "            if s[j] in normal:\n",
    "                f += 1\n",
    "            if f > k:\n",
    "                tmp = s[i:j]\n",
    "                break\n",
    "            j += 1       \n",
    "        listt.append(tmp)\n",
    "    output = list()\n",
    "    for i in listt:\n",
    "        output.append(len(i))        \n",
    "    return max(output)"
   ]
  },
  {
   "cell_type": "code",
   "execution_count": 2,
   "metadata": {},
   "outputs": [
    {
     "data": {
      "text/plain": [
       "3"
      ]
     },
     "execution_count": 2,
     "metadata": {},
     "output_type": "execute_result"
    }
   ],
   "source": [
    "getSpecialSubstring(s = 'abcde', k = 1, charValue = '10101111111111111111111111') # 3"
   ]
  },
  {
   "cell_type": "code",
   "execution_count": 3,
   "metadata": {},
   "outputs": [
    {
     "data": {
      "text/plain": [
       "5"
      ]
     },
     "execution_count": 3,
     "metadata": {},
     "output_type": "execute_result"
    }
   ],
   "source": [
    "getSpecialSubstring(s = 'abcde', k = 2, charValue = '10101111111111111111111111') # 5"
   ]
  },
  {
   "cell_type": "code",
   "execution_count": 4,
   "metadata": {},
   "outputs": [
    {
     "data": {
      "text/plain": [
       "1"
      ]
     },
     "execution_count": 4,
     "metadata": {},
     "output_type": "execute_result"
    }
   ],
   "source": [
    "getSpecialSubstring(s = 'special', k = 1, charValue = '00000000000000000000000000')"
   ]
  },
  {
   "cell_type": "code",
   "execution_count": 5,
   "metadata": {},
   "outputs": [
    {
     "data": {
      "text/plain": [
       "3"
      ]
     },
     "execution_count": 5,
     "metadata": {},
     "output_type": "execute_result"
    }
   ],
   "source": [
    "getSpecialSubstring(s = 'giraffe', k = 2, charValue = '01111001111111111011111111')"
   ]
  },
  {
   "cell_type": "code",
   "execution_count": null,
   "metadata": {},
   "outputs": [],
   "source": []
  }
 ],
 "metadata": {
  "kernelspec": {
   "display_name": "Python 3",
   "language": "python",
   "name": "python3"
  },
  "language_info": {
   "codemirror_mode": {
    "name": "ipython",
    "version": 3
   },
   "file_extension": ".py",
   "mimetype": "text/x-python",
   "name": "python",
   "nbconvert_exporter": "python",
   "pygments_lexer": "ipython3",
   "version": "3.6.9"
  }
 },
 "nbformat": 4,
 "nbformat_minor": 2
}
