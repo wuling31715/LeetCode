{
 "cells": [
  {
   "cell_type": "code",
   "execution_count": 1,
   "metadata": {},
   "outputs": [],
   "source": [
    "class Solution:\n",
    "    def intToRoman(self, num: int) -> str:\n",
    "        dictt = {1: 'I',\n",
    "                 4: 'IV', \n",
    "                 5: 'V',\n",
    "                 9: 'IX', \n",
    "                 10: 'X',\n",
    "                 40: 'XL', \n",
    "                 50: 'L',\n",
    "                 90: 'XC', \n",
    "                 100: 'C',\n",
    "                 400: 'CD', \n",
    "                 500: 'D', \n",
    "                 900: 'CM', \n",
    "                 1000: 'M'}\n",
    "        num = str(num)[::-1]\n",
    "        i = 0\n",
    "        listt = list()\n",
    "        while i < len(num):\n",
    "            listt.append(int(num[i]) * (10 ** i))\n",
    "            i += 1\n",
    "        listt = listt[::-1]\n",
    "        s = str()\n",
    "        key_list = list(dictt.keys())[::-1]\n",
    "        digit_list = list()\n",
    "        for i in listt:\n",
    "            tmp = str()\n",
    "            for j in key_list:\n",
    "                d = i // j\n",
    "                if d != 0:                       \n",
    "                    i -= (j * d)\n",
    "                    digit_list.append(dictt[j] * d)\n",
    "        roman = str()\n",
    "        for i in digit_list:\n",
    "            roman += i\n",
    "        return roman"
   ]
  },
  {
   "cell_type": "code",
   "execution_count": 2,
   "metadata": {},
   "outputs": [],
   "source": [
    "s = Solution()"
   ]
  },
  {
   "cell_type": "code",
   "execution_count": 3,
   "metadata": {},
   "outputs": [
    {
     "data": {
      "text/plain": [
       "'XX'"
      ]
     },
     "execution_count": 3,
     "metadata": {},
     "output_type": "execute_result"
    }
   ],
   "source": [
    "s.intToRoman(20)"
   ]
  },
  {
   "cell_type": "code",
   "execution_count": 4,
   "metadata": {},
   "outputs": [
    {
     "data": {
      "text/plain": [
       "'III'"
      ]
     },
     "execution_count": 4,
     "metadata": {},
     "output_type": "execute_result"
    }
   ],
   "source": [
    "s.intToRoman(3)"
   ]
  },
  {
   "cell_type": "code",
   "execution_count": 5,
   "metadata": {},
   "outputs": [
    {
     "data": {
      "text/plain": [
       "'IV'"
      ]
     },
     "execution_count": 5,
     "metadata": {},
     "output_type": "execute_result"
    }
   ],
   "source": [
    "s.intToRoman(4)"
   ]
  },
  {
   "cell_type": "code",
   "execution_count": 6,
   "metadata": {},
   "outputs": [
    {
     "data": {
      "text/plain": [
       "'IX'"
      ]
     },
     "execution_count": 6,
     "metadata": {},
     "output_type": "execute_result"
    }
   ],
   "source": [
    "s.intToRoman(9)"
   ]
  },
  {
   "cell_type": "code",
   "execution_count": 7,
   "metadata": {},
   "outputs": [
    {
     "data": {
      "text/plain": [
       "'LVIII'"
      ]
     },
     "execution_count": 7,
     "metadata": {},
     "output_type": "execute_result"
    }
   ],
   "source": [
    "s.intToRoman(58)"
   ]
  },
  {
   "cell_type": "code",
   "execution_count": 8,
   "metadata": {},
   "outputs": [
    {
     "data": {
      "text/plain": [
       "'MCMXCIV'"
      ]
     },
     "execution_count": 8,
     "metadata": {},
     "output_type": "execute_result"
    }
   ],
   "source": [
    "s.intToRoman(1994)"
   ]
  },
  {
   "cell_type": "code",
   "execution_count": null,
   "metadata": {},
   "outputs": [],
   "source": []
  }
 ],
 "metadata": {
  "kernelspec": {
   "display_name": "Python 3",
   "language": "python",
   "name": "python3"
  },
  "language_info": {
   "codemirror_mode": {
    "name": "ipython",
    "version": 3
   },
   "file_extension": ".py",
   "mimetype": "text/x-python",
   "name": "python",
   "nbconvert_exporter": "python",
   "pygments_lexer": "ipython3",
   "version": "3.6.9"
  }
 },
 "nbformat": 4,
 "nbformat_minor": 2
}
