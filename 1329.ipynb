{
 "cells": [
  {
   "cell_type": "code",
   "execution_count": 1,
   "metadata": {},
   "outputs": [],
   "source": [
    "class Solution:\n",
    "    def diagonalSort(self, mat: [[int]]) -> [[int]]:\n",
    "        listt = list()\n",
    "        for i in mat:\n",
    "            for j in i:\n",
    "                listt.append(j)\n",
    "        listt.sort()\n",
    "        row = len(mat)\n",
    "        column = len(mat[0])\n",
    "        output = [[0 for i in range(column)] for i in range(row)]\n",
    "        for i in range(row):\n",
    "            for j in range(column):\n",
    "                if i == 0 or j == 0:\n",
    "                    output[i][j] = listt.pop(0)\n",
    "                else:\n",
    "                    pre = output[i-1][j-1]\n",
    "                    k = 0\n",
    "                    while listt[k] <= pre:\n",
    "                        k += 1\n",
    "                    next = listt[k]\n",
    "                    output[i][j] = next\n",
    "                    listt.remove(next)\n",
    "        return output"
   ]
  },
  {
   "cell_type": "code",
   "execution_count": 2,
   "metadata": {},
   "outputs": [],
   "source": [
    "s = Solution()"
   ]
  },
  {
   "cell_type": "code",
   "execution_count": 3,
   "metadata": {},
   "outputs": [
    {
     "data": {
      "text/plain": [
       "[[1, 4, 5, 7, 8, 11],\n",
       " [11, 14, 15, 17, 22, 23],\n",
       " [25, 25, 27, 28, 31, 33],\n",
       " [36, 44, 45, 50, 52, 55],\n",
       " [58, 66, 68, 69, 75, 84]]"
      ]
     },
     "execution_count": 3,
     "metadata": {},
     "output_type": "execute_result"
    }
   ],
   "source": [
    "s.diagonalSort([[11,25,66,1,69,7],[23,55,17,45,15,52],[75,31,36,44,58,8],[22,27,33,25,68,4],[84,28,14,11,5,50]]\n",
    ")"
   ]
  },
  {
   "cell_type": "code",
   "execution_count": 4,
   "metadata": {},
   "outputs": [
    {
     "data": {
      "text/plain": [
       "[[1, 1, 1, 1], [1, 2, 2, 2], [1, 2, 3, 3]]"
      ]
     },
     "execution_count": 4,
     "metadata": {},
     "output_type": "execute_result"
    }
   ],
   "source": [
    "s.diagonalSort(mat = [[3,3,1,1],[2,2,1,2],[1,1,1,2]])"
   ]
  },
  {
   "cell_type": "code",
   "execution_count": null,
   "metadata": {},
   "outputs": [],
   "source": []
  }
 ],
 "metadata": {
  "kernelspec": {
   "display_name": "Python 3",
   "language": "python",
   "name": "python3"
  },
  "language_info": {
   "codemirror_mode": {
    "name": "ipython",
    "version": 3
   },
   "file_extension": ".py",
   "mimetype": "text/x-python",
   "name": "python",
   "nbconvert_exporter": "python",
   "pygments_lexer": "ipython3",
   "version": "3.6.9"
  }
 },
 "nbformat": 4,
 "nbformat_minor": 2
}
