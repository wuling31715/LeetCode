{
 "cells": [
  {
   "cell_type": "code",
   "execution_count": 1,
   "metadata": {},
   "outputs": [],
   "source": [
    "class Solution:\n",
    "    def oddCells(self, n: int, m: int, indices: [[int]]) -> int:\n",
    "        def count(matrix):\n",
    "            c = 0\n",
    "            for row in matrix:\n",
    "                for i in row:\n",
    "                    if i % 2 != 0:\n",
    "                        c += 1\n",
    "            return c\n",
    "        matrix = [[0] * m for i in range(n)]        \n",
    "        for operation in indices:\n",
    "            row = operation[0]\n",
    "            column = operation[1]\n",
    "            i = 0\n",
    "            j = 0\n",
    "            while i < m:\n",
    "                matrix[row][i] += 1\n",
    "                i += 1\n",
    "            while j < n:\n",
    "                matrix[j][column] += 1\n",
    "                j += 1          \n",
    "        return count(matrix)"
   ]
  },
  {
   "cell_type": "code",
   "execution_count": 2,
   "metadata": {},
   "outputs": [],
   "source": [
    "s = Solution"
   ]
  },
  {
   "cell_type": "code",
   "execution_count": 3,
   "metadata": {},
   "outputs": [
    {
     "data": {
      "text/plain": [
       "6"
      ]
     },
     "execution_count": 3,
     "metadata": {},
     "output_type": "execute_result"
    }
   ],
   "source": [
    "s.oddCells(s, n = 2, m = 3, indices = [[0,1],[1,1]])"
   ]
  },
  {
   "cell_type": "code",
   "execution_count": 4,
   "metadata": {},
   "outputs": [
    {
     "data": {
      "text/plain": [
       "0"
      ]
     },
     "execution_count": 4,
     "metadata": {},
     "output_type": "execute_result"
    }
   ],
   "source": [
    "s.oddCells(s, n = 2, m = 2, indices = [[1,1],[0,0]])"
   ]
  },
  {
   "cell_type": "code",
   "execution_count": null,
   "metadata": {},
   "outputs": [],
   "source": []
  }
 ],
 "metadata": {
  "kernelspec": {
   "display_name": "Python 3",
   "language": "python",
   "name": "python3"
  },
  "language_info": {
   "codemirror_mode": {
    "name": "ipython",
    "version": 3
   },
   "file_extension": ".py",
   "mimetype": "text/x-python",
   "name": "python",
   "nbconvert_exporter": "python",
   "pygments_lexer": "ipython3",
   "version": "3.7.4"
  }
 },
 "nbformat": 4,
 "nbformat_minor": 2
}
