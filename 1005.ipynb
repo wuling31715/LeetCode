{
 "cells": [
  {
   "cell_type": "code",
   "execution_count": 1,
   "metadata": {},
   "outputs": [],
   "source": [
    "class Solution:\n",
    "    def largestSumAfterKNegations(self, A: [int], K: int) -> int:\n",
    "        negative = list()\n",
    "        positive = list()\n",
    "        A.sort()\n",
    "        for i in A:\n",
    "            if i <= 0:\n",
    "                negative.append(i)\n",
    "            else:\n",
    "                positive.append(i)\n",
    "        if len(negative) != 0:\n",
    "            i = 0\n",
    "            while K > 0:\n",
    "                if i < len(negative):\n",
    "                    negative[i] *= -1\n",
    "                else:\n",
    "                    if negative[-1] < positive[0]: \n",
    "                        negative[-1] *= -1\n",
    "                    else:\n",
    "                        positive[0] *= -1\n",
    "                i += 1\n",
    "                K -= 1\n",
    "        else:\n",
    "            while K > 0:\n",
    "                positive[0] *= -1\n",
    "                K -= 1\n",
    "        return sum(negative) + sum(positive)        "
   ]
  },
  {
   "cell_type": "code",
   "execution_count": 2,
   "metadata": {},
   "outputs": [],
   "source": [
    "s = Solution"
   ]
  },
  {
   "cell_type": "code",
   "execution_count": 3,
   "metadata": {},
   "outputs": [
    {
     "data": {
      "text/plain": [
       "5"
      ]
     },
     "execution_count": 3,
     "metadata": {},
     "output_type": "execute_result"
    }
   ],
   "source": [
    "s.largestSumAfterKNegations(s, A = [4,2,3], K = 1)"
   ]
  },
  {
   "cell_type": "code",
   "execution_count": 4,
   "metadata": {},
   "outputs": [
    {
     "data": {
      "text/plain": [
       "6"
      ]
     },
     "execution_count": 4,
     "metadata": {},
     "output_type": "execute_result"
    }
   ],
   "source": [
    "s.largestSumAfterKNegations(s, A = [3,-1,0,2], K = 3)"
   ]
  },
  {
   "cell_type": "code",
   "execution_count": 5,
   "metadata": {},
   "outputs": [
    {
     "data": {
      "text/plain": [
       "13"
      ]
     },
     "execution_count": 5,
     "metadata": {},
     "output_type": "execute_result"
    }
   ],
   "source": [
    "s.largestSumAfterKNegations(s, A = [2,-3,-1,5,-4], K = 2)"
   ]
  },
  {
   "cell_type": "code",
   "execution_count": 6,
   "metadata": {},
   "outputs": [
    {
     "data": {
      "text/plain": [
       "53"
      ]
     },
     "execution_count": 6,
     "metadata": {},
     "output_type": "execute_result"
    }
   ],
   "source": [
    "s.largestSumAfterKNegations(s, [8,-7,-3,-9,1,9,-6,-9,3], 8)"
   ]
  },
  {
   "cell_type": "code",
   "execution_count": null,
   "metadata": {},
   "outputs": [],
   "source": []
  }
 ],
 "metadata": {
  "kernelspec": {
   "display_name": "Python 3",
   "language": "python",
   "name": "python3"
  },
  "language_info": {
   "codemirror_mode": {
    "name": "ipython",
    "version": 3
   },
   "file_extension": ".py",
   "mimetype": "text/x-python",
   "name": "python",
   "nbconvert_exporter": "python",
   "pygments_lexer": "ipython3",
   "version": "3.6.9"
  }
 },
 "nbformat": 4,
 "nbformat_minor": 2
}
