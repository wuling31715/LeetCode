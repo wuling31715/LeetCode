{
 "cells": [
  {
   "cell_type": "code",
   "execution_count": 1,
   "metadata": {},
   "outputs": [],
   "source": [
    "class Solution:\n",
    "    def guess(n):\n",
    "        print(n)\n",
    "        k = 1\n",
    "        if k == n:\n",
    "            return 0\n",
    "        elif k < n:\n",
    "            return -1\n",
    "        elif k > n:\n",
    "            return 1\n",
    "    def guessNumber(self, n: int) -> int:\n",
    "        l = 0\n",
    "        r = n\n",
    "        m = (l + r) // 2\n",
    "        g = self.guess(m)\n",
    "        if g == 0:\n",
    "            return m\n",
    "        while g != 0:\n",
    "            if g > 0:\n",
    "                l = m + 1\n",
    "                m = (l + r) // 2\n",
    "                g = self.guess(m)\n",
    "            else:\n",
    "                r = m - 1\n",
    "                m = (l + r) // 2\n",
    "                g = self.guess(m)                            \n",
    "        return m"
   ]
  },
  {
   "cell_type": "code",
   "execution_count": 2,
   "metadata": {},
   "outputs": [],
   "source": [
    "s = Solution"
   ]
  },
  {
   "cell_type": "code",
   "execution_count": 3,
   "metadata": {},
   "outputs": [
    {
     "name": "stdout",
     "output_type": "stream",
     "text": [
      "5\n",
      "2\n",
      "0\n",
      "1\n"
     ]
    },
    {
     "data": {
      "text/plain": [
       "1"
      ]
     },
     "execution_count": 3,
     "metadata": {},
     "output_type": "execute_result"
    }
   ],
   "source": [
    "s.guessNumber(s, 10)"
   ]
  },
  {
   "cell_type": "code",
   "execution_count": 4,
   "metadata": {},
   "outputs": [
    {
     "name": "stdout",
     "output_type": "stream",
     "text": [
      "5\n",
      "2\n",
      "0\n",
      "1\n"
     ]
    },
    {
     "data": {
      "text/plain": [
       "1"
      ]
     },
     "execution_count": 4,
     "metadata": {},
     "output_type": "execute_result"
    }
   ],
   "source": [
    "s.guessNumber(s, 11)"
   ]
  },
  {
   "cell_type": "code",
   "execution_count": 5,
   "metadata": {},
   "outputs": [
    {
     "name": "stdout",
     "output_type": "stream",
     "text": [
      "6\n",
      "2\n",
      "0\n",
      "1\n"
     ]
    },
    {
     "data": {
      "text/plain": [
       "1"
      ]
     },
     "execution_count": 5,
     "metadata": {},
     "output_type": "execute_result"
    }
   ],
   "source": [
    "s.guessNumber(s, 12)"
   ]
  },
  {
   "cell_type": "code",
   "execution_count": 6,
   "metadata": {},
   "outputs": [
    {
     "name": "stdout",
     "output_type": "stream",
     "text": [
      "0\n",
      "1\n"
     ]
    },
    {
     "data": {
      "text/plain": [
       "1"
      ]
     },
     "execution_count": 6,
     "metadata": {},
     "output_type": "execute_result"
    }
   ],
   "source": [
    "s.guessNumber(s, 1)"
   ]
  },
  {
   "cell_type": "code",
   "execution_count": 7,
   "metadata": {},
   "outputs": [],
   "source": [
    "# The guess API is already defined for you.\n",
    "# @return -1 if my number is lower, 1 if my number is higher, otherwise return 0\n",
    "# def guess(num: int) -> int:\n",
    "\n",
    "class Solution:\n",
    "    def guess(n):\n",
    "        k = 6\n",
    "        if k == n:\n",
    "            return 0\n",
    "        elif k < n:\n",
    "            return -1\n",
    "        elif k > n:\n",
    "            return 1\n",
    "    def binary_search(self, l, r):\n",
    "        if l < r:\n",
    "            m = (l + r) // 2 \n",
    "            g = self.guess(m) \n",
    "            if g == 0:\n",
    "                return m\n",
    "            elif g == 1:\n",
    "                return self.binary_search(self, m + 1, r)\n",
    "            elif g == -1:\n",
    "                return self.binary_search(self, l, m - 1)\n",
    "        else:\n",
    "            return l                \n",
    "    def guessNumber(self, n: int) -> int:\n",
    "        return self.binary_search(self, 1, n)"
   ]
  },
  {
   "cell_type": "code",
   "execution_count": 8,
   "metadata": {},
   "outputs": [],
   "source": [
    "s = Solution"
   ]
  },
  {
   "cell_type": "code",
   "execution_count": 9,
   "metadata": {},
   "outputs": [
    {
     "data": {
      "text/plain": [
       "6"
      ]
     },
     "execution_count": 9,
     "metadata": {},
     "output_type": "execute_result"
    }
   ],
   "source": [
    "s.guessNumber(s, 10)"
   ]
  },
  {
   "cell_type": "code",
   "execution_count": null,
   "metadata": {},
   "outputs": [],
   "source": []
  }
 ],
 "metadata": {
  "kernelspec": {
   "display_name": "Python 3",
   "language": "python",
   "name": "python3"
  },
  "language_info": {
   "codemirror_mode": {
    "name": "ipython",
    "version": 3
   },
   "file_extension": ".py",
   "mimetype": "text/x-python",
   "name": "python",
   "nbconvert_exporter": "python",
   "pygments_lexer": "ipython3",
   "version": "3.6.9"
  }
 },
 "nbformat": 4,
 "nbformat_minor": 2
}
