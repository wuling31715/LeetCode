{
 "cells": [
  {
   "cell_type": "code",
   "execution_count": 1,
   "metadata": {},
   "outputs": [],
   "source": [
    "class Solution:\n",
    "    def subdomainVisits(self, cpdomains: [str]) -> [str]:\n",
    "        lis = list()\n",
    "        dic = dict()\n",
    "        for s in cpdomains:\n",
    "            lis.append(s.split())\n",
    "        for s in lis:\n",
    "            visit = int(s[0])\n",
    "            domain = s[1]\n",
    "            while domain:\n",
    "                if domain in dic:\n",
    "                    dic[domain] += visit\n",
    "                else:\n",
    "                    dic[domain] = visit\n",
    "                domain_list = domain.split('.')[1:]\n",
    "                domain = str()\n",
    "                for d in domain_list:\n",
    "                    domain = domain + d + '.'\n",
    "                domain = domain[:-1]\n",
    "        lis = list()\n",
    "        for i in dic.items():\n",
    "            tmp = '%s %s' % (str(i[1]), str(i[0]))\n",
    "            lis.append(tmp)\n",
    "        return lis"
   ]
  },
  {
   "cell_type": "code",
   "execution_count": 2,
   "metadata": {},
   "outputs": [],
   "source": [
    "s = Solution"
   ]
  },
  {
   "cell_type": "code",
   "execution_count": 3,
   "metadata": {},
   "outputs": [
    {
     "data": {
      "text/plain": [
       "['9001 discuss.leetcode.com', '9001 leetcode.com', '9001 com']"
      ]
     },
     "execution_count": 3,
     "metadata": {},
     "output_type": "execute_result"
    }
   ],
   "source": [
    "s.subdomainVisits(s, [\"9001 discuss.leetcode.com\"])"
   ]
  },
  {
   "cell_type": "code",
   "execution_count": 4,
   "metadata": {},
   "outputs": [
    {
     "data": {
      "text/plain": [
       "['900 google.mail.com',\n",
       " '901 mail.com',\n",
       " '951 com',\n",
       " '50 yahoo.com',\n",
       " '1 intel.mail.com',\n",
       " '5 wiki.org',\n",
       " '5 org']"
      ]
     },
     "execution_count": 4,
     "metadata": {},
     "output_type": "execute_result"
    }
   ],
   "source": [
    "s.subdomainVisits(s, [\"900 google.mail.com\", \"50 yahoo.com\", \"1 intel.mail.com\", \"5 wiki.org\"])"
   ]
  },
  {
   "cell_type": "code",
   "execution_count": null,
   "metadata": {},
   "outputs": [],
   "source": []
  }
 ],
 "metadata": {
  "kernelspec": {
   "display_name": "Python 3",
   "language": "python",
   "name": "python3"
  },
  "language_info": {
   "codemirror_mode": {
    "name": "ipython",
    "version": 3
   },
   "file_extension": ".py",
   "mimetype": "text/x-python",
   "name": "python",
   "nbconvert_exporter": "python",
   "pygments_lexer": "ipython3",
   "version": "3.7.4"
  }
 },
 "nbformat": 4,
 "nbformat_minor": 2
}
