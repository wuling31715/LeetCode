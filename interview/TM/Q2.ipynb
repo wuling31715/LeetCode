{
 "cells": [
  {
   "cell_type": "code",
   "execution_count": 1,
   "metadata": {},
   "outputs": [],
   "source": [
    "def solution(riddle):\n",
    "    listt = list()\n",
    "    for i in riddle:\n",
    "        listt.append(i)        \n",
    "    alpha = \"abcdefghijklmnopqrstuvwxyz\"\n",
    "    alpha_to_index = dict()\n",
    "    index_to_alpha = dict()\n",
    "    for i, j in enumerate(alpha):\n",
    "        alpha_to_index[j] = i\n",
    "    for i, j in enumerate(alpha):\n",
    "        index_to_alpha[i] = j\n",
    "    for i in range(len(listt)):\n",
    "        if listt[i] == '?':\n",
    "            if i == 0:               \n",
    "                if listt[i+1] == '?':\n",
    "                    listt[i] = alpha[0]\n",
    "                else:\n",
    "                    listt[i] = index_to_alpha[(alpha_to_index[listt[i+1]]+1)%26]\n",
    "            elif i == len(listt)-1:\n",
    "                listt[i] = index_to_alpha[(alpha_to_index[listt[i-1]]+1)%26]\n",
    "            else:\n",
    "                tmp = index_to_alpha[(alpha_to_index[listt[i-1]]+1)%26]\n",
    "                if tmp == listt[i+1]:\n",
    "                    tmp = index_to_alpha[(alpha_to_index[listt[i+1]]+1)%26]\n",
    "                listt[i] = tmp        \n",
    "    riddle = str()\n",
    "    for i in listt:\n",
    "        riddle += i\n",
    "    return riddle"
   ]
  },
  {
   "cell_type": "code",
   "execution_count": 2,
   "metadata": {},
   "outputs": [
    {
     "data": {
      "text/plain": [
       "'abcdefghijklmnopqrstuvwxyzabcdefghijklmnopqrstuvwxyzabc'"
      ]
     },
     "execution_count": 2,
     "metadata": {},
     "output_type": "execute_result"
    }
   ],
   "source": [
    "solution(\"???????????????????????????????????????????????????????\")"
   ]
  },
  {
   "cell_type": "code",
   "execution_count": 3,
   "metadata": {},
   "outputs": [
    {
     "data": {
      "text/plain": [
       "'rdfefwghi'"
      ]
     },
     "execution_count": 3,
     "metadata": {},
     "output_type": "execute_result"
    }
   ],
   "source": [
    "solution('rd?e?wg??')"
   ]
  },
  {
   "cell_type": "code",
   "execution_count": 4,
   "metadata": {},
   "outputs": [
    {
     "data": {
      "text/plain": [
       "'abcacd'"
      ]
     },
     "execution_count": 4,
     "metadata": {},
     "output_type": "execute_result"
    }
   ],
   "source": [
    "solution(\"ab?ac?\")"
   ]
  },
  {
   "cell_type": "code",
   "execution_count": null,
   "metadata": {},
   "outputs": [],
   "source": []
  }
 ],
 "metadata": {
  "kernelspec": {
   "display_name": "Python 3",
   "language": "python",
   "name": "python3"
  },
  "language_info": {
   "codemirror_mode": {
    "name": "ipython",
    "version": 3
   },
   "file_extension": ".py",
   "mimetype": "text/x-python",
   "name": "python",
   "nbconvert_exporter": "python",
   "pygments_lexer": "ipython3",
   "version": "3.6.9"
  }
 },
 "nbformat": 4,
 "nbformat_minor": 2
}
