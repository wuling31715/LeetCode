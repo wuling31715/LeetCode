{
 "cells": [
  {
   "cell_type": "code",
   "execution_count": 1,
   "metadata": {},
   "outputs": [],
   "source": [
    "#!/bin/python3\n",
    "\n",
    "import math\n",
    "import os\n",
    "import random\n",
    "import re\n",
    "import sys\n",
    "\n",
    "\n",
    "\n",
    "#\n",
    "# Complete the 'meanderingArray' function below.\n",
    "#\n",
    "# The function is expected to return an INTEGER_ARRAY.\n",
    "# The function accepts INTEGER_ARRAY unsorted as parameter.\n",
    "#\n",
    "\n",
    "def meanderingArray(unsorted):\n",
    "    ascend = list()\n",
    "    descend = list()\n",
    "    output = list()\n",
    "    unsorted.sort()\n",
    "    if len(unsorted) % 2 == 0:\n",
    "        ascend = unsorted[:len(unsorted)//2]\n",
    "        descend = unsorted[len(unsorted)//2:]\n",
    "        descend = descend[::-1]\n",
    "    else:\n",
    "        ascend = unsorted[:len(unsorted)//2]\n",
    "        descend = unsorted[len(unsorted)//2:]\n",
    "        descend = descend[::-1]\n",
    "        \n",
    "        \n",
    "    for i, j in zip(descend, ascend):\n",
    "        output.append(i)\n",
    "        output.append(j)\n",
    "        \n",
    "    if len(descend) > len(ascend):\n",
    "        output.append(descend[-1])\n",
    "        \n",
    "    return output    "
   ]
  },
  {
   "cell_type": "code",
   "execution_count": 2,
   "metadata": {},
   "outputs": [
    {
     "data": {
      "text/plain": [
       "[904304,\n",
       " -927571,\n",
       " 860511,\n",
       " -825806,\n",
       " 732004,\n",
       " -721722,\n",
       " 536428,\n",
       " -292822,\n",
       " 211621,\n",
       " -287004,\n",
       " 161270,\n",
       " -27676]"
      ]
     },
     "execution_count": 2,
     "metadata": {},
     "output_type": "execute_result"
    }
   ],
   "source": [
    "meanderingArray([-27676,211621,904304,161270,-292822,732004,860511,-825806,-721722,536428,-927571,-287004])"
   ]
  },
  {
   "cell_type": "code",
   "execution_count": 3,
   "metadata": {},
   "outputs": [
    {
     "data": {
      "text/plain": [
       "[25, -3, 25, -2, 8, 2, 7, 5, 7]"
      ]
     },
     "execution_count": 3,
     "metadata": {},
     "output_type": "execute_result"
    }
   ],
   "source": [
    "meanderingArray([7,5,2,7,8,-2,25,25,-3])"
   ]
  },
  {
   "cell_type": "code",
   "execution_count": 4,
   "metadata": {},
   "outputs": [
    {
     "data": {
      "text/plain": [
       "[25, -2, 25, 2, 8, 5, 7, 7]"
      ]
     },
     "execution_count": 4,
     "metadata": {},
     "output_type": "execute_result"
    }
   ],
   "source": [
    "meanderingArray([7,5,2,7,8,-2,25,25])"
   ]
  },
  {
   "cell_type": "code",
   "execution_count": null,
   "metadata": {},
   "outputs": [],
   "source": []
  }
 ],
 "metadata": {
  "kernelspec": {
   "display_name": "Python 3",
   "language": "python",
   "name": "python3"
  },
  "language_info": {
   "codemirror_mode": {
    "name": "ipython",
    "version": 3
   },
   "file_extension": ".py",
   "mimetype": "text/x-python",
   "name": "python",
   "nbconvert_exporter": "python",
   "pygments_lexer": "ipython3",
   "version": "3.6.9"
  }
 },
 "nbformat": 4,
 "nbformat_minor": 2
}
